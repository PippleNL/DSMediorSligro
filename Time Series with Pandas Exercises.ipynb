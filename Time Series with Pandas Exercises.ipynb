{
 "cells": [
  {
   "cell_type": "markdown",
   "id": "37dc87a4",
   "metadata": {},
   "source": [
    "# Time Series with Pandas Exercises"
   ]
  },
  {
   "cell_type": "code",
   "execution_count": 1,
   "id": "259650fe",
   "metadata": {},
   "outputs": [
    {
     "data": {
      "text/html": [
       "<div>\n",
       "<style scoped>\n",
       "    .dataframe tbody tr th:only-of-type {\n",
       "        vertical-align: middle;\n",
       "    }\n",
       "\n",
       "    .dataframe tbody tr th {\n",
       "        vertical-align: top;\n",
       "    }\n",
       "\n",
       "    .dataframe thead th {\n",
       "        text-align: right;\n",
       "    }\n",
       "</style>\n",
       "<table border=\"1\" class=\"dataframe\">\n",
       "  <thead>\n",
       "    <tr style=\"text-align: right;\">\n",
       "      <th></th>\n",
       "      <th>Date</th>\n",
       "      <th>Production</th>\n",
       "    </tr>\n",
       "  </thead>\n",
       "  <tbody>\n",
       "    <tr>\n",
       "      <th>0</th>\n",
       "      <td>1962-01</td>\n",
       "      <td>589</td>\n",
       "    </tr>\n",
       "    <tr>\n",
       "      <th>1</th>\n",
       "      <td>1962-02</td>\n",
       "      <td>561</td>\n",
       "    </tr>\n",
       "    <tr>\n",
       "      <th>2</th>\n",
       "      <td>1962-03</td>\n",
       "      <td>640</td>\n",
       "    </tr>\n",
       "    <tr>\n",
       "      <th>3</th>\n",
       "      <td>1962-04</td>\n",
       "      <td>656</td>\n",
       "    </tr>\n",
       "    <tr>\n",
       "      <th>4</th>\n",
       "      <td>1962-05</td>\n",
       "      <td>727</td>\n",
       "    </tr>\n",
       "  </tbody>\n",
       "</table>\n",
       "</div>"
      ],
      "text/plain": [
       "      Date  Production\n",
       "0  1962-01         589\n",
       "1  1962-02         561\n",
       "2  1962-03         640\n",
       "3  1962-04         656\n",
       "4  1962-05         727"
      ]
     },
     "execution_count": 1,
     "metadata": {},
     "output_type": "execute_result"
    }
   ],
   "source": [
    "# Import the necessary packages and data\n",
    "import numpy as np\n",
    "import pandas as pd\n",
    "%matplotlib inline\n",
    "\n",
    "df = pd.read_csv('monthly_milk_production.csv')\n",
    "\n",
    "df.head()"
   ]
  },
  {
   "cell_type": "markdown",
   "id": "b7486be1",
   "metadata": {},
   "source": [
    "### 1. What is the current data type of the Date column?"
   ]
  },
  {
   "cell_type": "code",
   "execution_count": 2,
   "id": "8fb18bc4",
   "metadata": {},
   "outputs": [],
   "source": [
    "#Type your answer for question 1 here"
   ]
  },
  {
   "cell_type": "markdown",
   "id": "2c0717c9",
   "metadata": {},
   "source": [
    "### 2. Change the Date column to a datetime format"
   ]
  },
  {
   "cell_type": "code",
   "execution_count": 3,
   "id": "a3b805ff",
   "metadata": {},
   "outputs": [],
   "source": [
    "#Type your answer for question 2 here"
   ]
  },
  {
   "cell_type": "markdown",
   "id": "17c01ed5",
   "metadata": {},
   "source": [
    "### 3. Set the Date column to be the new index of the DataFrame"
   ]
  },
  {
   "cell_type": "code",
   "execution_count": 4,
   "id": "8b3166c2",
   "metadata": {},
   "outputs": [],
   "source": [
    "#Type your answer for question 3 here"
   ]
  },
  {
   "cell_type": "markdown",
   "id": "561ab00f",
   "metadata": {},
   "source": [
    "### 4. Plot the DataFrame with a line plot. What do you see?"
   ]
  },
  {
   "cell_type": "code",
   "execution_count": 5,
   "id": "ee29fba4",
   "metadata": {},
   "outputs": [],
   "source": [
    "#Type your answer for question 4 here"
   ]
  },
  {
   "cell_type": "markdown",
   "id": "ec9315b1",
   "metadata": {},
   "source": [
    "#### Answer: the plot shows seasonality and an upward trend"
   ]
  },
  {
   "cell_type": "markdown",
   "id": "c59f7f9f",
   "metadata": {},
   "source": [
    "### 5. Add a column called 'Month_number' that takes the month value from the index, indicated as a number"
   ]
  },
  {
   "cell_type": "code",
   "execution_count": 6,
   "id": "e8a9a009",
   "metadata": {},
   "outputs": [],
   "source": [
    "#Type your answer for question 5 here"
   ]
  },
  {
   "cell_type": "markdown",
   "id": "6517a8ac",
   "metadata": {},
   "source": [
    "### 6. Add a column called 'Month_name' that takes the name of the month from the index"
   ]
  },
  {
   "cell_type": "code",
   "execution_count": 7,
   "id": "aad9749b",
   "metadata": {},
   "outputs": [],
   "source": [
    "#Type your answer for question 6 here"
   ]
  },
  {
   "cell_type": "markdown",
   "id": "7f3a515f",
   "metadata": {},
   "source": [
    "## For simplicity, we'll now delete the two month columns again, as we don't need them anymore."
   ]
  },
  {
   "cell_type": "code",
   "execution_count": 8,
   "id": "3526189d",
   "metadata": {},
   "outputs": [],
   "source": [
    "#df = df.drop(['Month_number', 'Month_name'], axis=1)"
   ]
  },
  {
   "cell_type": "markdown",
   "id": "38330277",
   "metadata": {},
   "source": [
    "### 7. What was the production value in March 1970?"
   ]
  },
  {
   "cell_type": "code",
   "execution_count": 9,
   "id": "572e23ee",
   "metadata": {},
   "outputs": [],
   "source": [
    "#Type your answer for question 7 here"
   ]
  },
  {
   "cell_type": "markdown",
   "id": "cd4b844d",
   "metadata": {},
   "source": [
    "### 8. What was the percent increase in production from Sept 1963 to Sept 1973?"
   ]
  },
  {
   "cell_type": "code",
   "execution_count": 10,
   "id": "c138e670",
   "metadata": {},
   "outputs": [],
   "source": [
    "#Type your answer for question 8 here"
   ]
  },
  {
   "cell_type": "markdown",
   "id": "757ef8f7",
   "metadata": {},
   "source": [
    "### 9. What was the month with the most production after 1967?"
   ]
  },
  {
   "cell_type": "code",
   "execution_count": 11,
   "id": "24f8e5c1",
   "metadata": {},
   "outputs": [],
   "source": [
    "#Type your answer for question 9 here"
   ]
  },
  {
   "cell_type": "markdown",
   "id": "8b0e4a43",
   "metadata": {},
   "source": [
    "### 10. Which 3 months have the lowest production value?"
   ]
  },
  {
   "cell_type": "code",
   "execution_count": 12,
   "id": "fe398dfd",
   "metadata": {},
   "outputs": [],
   "source": [
    "#Type your answer for question 10 here"
   ]
  },
  {
   "cell_type": "markdown",
   "id": "87a55c2a",
   "metadata": {},
   "source": [
    "### 11. Give the average production value per year"
   ]
  },
  {
   "cell_type": "code",
   "execution_count": 13,
   "id": "7737ad3c",
   "metadata": {},
   "outputs": [],
   "source": [
    "#Type your answer for question 11 here"
   ]
  },
  {
   "cell_type": "markdown",
   "id": "bf46a0c2",
   "metadata": {},
   "source": [
    "### 12. Give the total production value per year"
   ]
  },
  {
   "cell_type": "code",
   "execution_count": 14,
   "id": "3e2852b5",
   "metadata": {},
   "outputs": [],
   "source": [
    "#Type your answer for question 12 here"
   ]
  },
  {
   "cell_type": "markdown",
   "id": "b66a1be8",
   "metadata": {},
   "source": [
    "### 13. Plot out the yearly rolling mean on top of the original data"
   ]
  },
  {
   "cell_type": "code",
   "execution_count": 15,
   "id": "2ae87d2a",
   "metadata": {},
   "outputs": [],
   "source": [
    "#Type your answer for question 13 here"
   ]
  },
  {
   "cell_type": "code",
   "execution_count": null,
   "id": "a183238a",
   "metadata": {},
   "outputs": [],
   "source": []
  },
  {
   "cell_type": "code",
   "execution_count": null,
   "id": "12cdcb16",
   "metadata": {},
   "outputs": [],
   "source": []
  },
  {
   "cell_type": "code",
   "execution_count": null,
   "id": "b62ba56a",
   "metadata": {},
   "outputs": [],
   "source": []
  },
  {
   "cell_type": "code",
   "execution_count": null,
   "id": "0d976cd0",
   "metadata": {},
   "outputs": [],
   "source": []
  },
  {
   "cell_type": "code",
   "execution_count": null,
   "id": "4c46d97e",
   "metadata": {},
   "outputs": [],
   "source": []
  }
 ],
 "metadata": {
  "kernelspec": {
   "display_name": "Python 3 (ipykernel)",
   "language": "python",
   "name": "python3"
  },
  "language_info": {
   "codemirror_mode": {
    "name": "ipython",
    "version": 3
   },
   "file_extension": ".py",
   "mimetype": "text/x-python",
   "name": "python",
   "nbconvert_exporter": "python",
   "pygments_lexer": "ipython3",
   "version": "3.9.12"
  }
 },
 "nbformat": 4,
 "nbformat_minor": 5
}
