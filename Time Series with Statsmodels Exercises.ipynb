{
 "cells": [
  {
   "cell_type": "markdown",
   "id": "16c81b78",
   "metadata": {},
   "source": [
    "# Time Series with Statsmodels Exercises\n",
    "\n",
    "Data source: https://fred.stlouisfed.org/series/IPG2211A2N"
   ]
  },
  {
   "cell_type": "code",
   "execution_count": 1,
   "id": "e2759790",
   "metadata": {},
   "outputs": [
    {
     "data": {
      "text/html": [
       "<div>\n",
       "<style scoped>\n",
       "    .dataframe tbody tr th:only-of-type {\n",
       "        vertical-align: middle;\n",
       "    }\n",
       "\n",
       "    .dataframe tbody tr th {\n",
       "        vertical-align: top;\n",
       "    }\n",
       "\n",
       "    .dataframe thead th {\n",
       "        text-align: right;\n",
       "    }\n",
       "</style>\n",
       "<table border=\"1\" class=\"dataframe\">\n",
       "  <thead>\n",
       "    <tr style=\"text-align: right;\">\n",
       "      <th></th>\n",
       "      <th>EnergyIndex</th>\n",
       "    </tr>\n",
       "    <tr>\n",
       "      <th>DATE</th>\n",
       "      <th></th>\n",
       "    </tr>\n",
       "  </thead>\n",
       "  <tbody>\n",
       "    <tr>\n",
       "      <th>1970-01-01</th>\n",
       "      <td>43.0869</td>\n",
       "    </tr>\n",
       "    <tr>\n",
       "      <th>1970-02-01</th>\n",
       "      <td>42.5577</td>\n",
       "    </tr>\n",
       "    <tr>\n",
       "      <th>1970-03-01</th>\n",
       "      <td>41.6215</td>\n",
       "    </tr>\n",
       "    <tr>\n",
       "      <th>1970-04-01</th>\n",
       "      <td>40.1982</td>\n",
       "    </tr>\n",
       "    <tr>\n",
       "      <th>1970-05-01</th>\n",
       "      <td>39.9321</td>\n",
       "    </tr>\n",
       "  </tbody>\n",
       "</table>\n",
       "</div>"
      ],
      "text/plain": [
       "            EnergyIndex\n",
       "DATE                   \n",
       "1970-01-01      43.0869\n",
       "1970-02-01      42.5577\n",
       "1970-03-01      41.6215\n",
       "1970-04-01      40.1982\n",
       "1970-05-01      39.9321"
      ]
     },
     "execution_count": 1,
     "metadata": {},
     "output_type": "execute_result"
    }
   ],
   "source": [
    "# Import the necessary packages and data\n",
    "import pandas as pd\n",
    "import numpy as np\n",
    "from statsmodels.tsa.holtwinters import SimpleExpSmoothing,ExponentialSmoothing\n",
    "%matplotlib inline\n",
    "\n",
    "url = 'https://raw.githubusercontent.com/PippleNL/DSMediorSligro/main/data/EnergyProduction.csv'\n",
    "df = pd.read_csv(url,index_col=0,parse_dates=True)\n",
    "df.head()"
   ]
  },
  {
   "cell_type": "markdown",
   "id": "a0df09fc",
   "metadata": {},
   "source": [
    "### 1. Assign the frequency 'MS' (montly start) to the DatetimeIndex"
   ]
  },
  {
   "cell_type": "code",
   "execution_count": 2,
   "id": "4c1a4d6b",
   "metadata": {},
   "outputs": [],
   "source": [
    "#Type your answer for question 1 here"
   ]
  },
  {
   "cell_type": "markdown",
   "id": "775336ab",
   "metadata": {},
   "source": [
    "### 2. Plot the dataset\n",
    "\n",
    "In this set of exercises, it may be helpful to display the plots bigger than the default size. Use figsize=(12,6) as an argument within the .plot()-function."
   ]
  },
  {
   "cell_type": "code",
   "execution_count": 3,
   "id": "a9928fc0",
   "metadata": {},
   "outputs": [],
   "source": [
    "#Type your answer for question 2 here"
   ]
  },
  {
   "cell_type": "markdown",
   "id": "d1dae97a",
   "metadata": {},
   "source": [
    "### 3. Add a column that gives the 12-month Simple Moving Average (SMA) and plot the result against the original column"
   ]
  },
  {
   "cell_type": "code",
   "execution_count": 4,
   "id": "e2ec1c12",
   "metadata": {},
   "outputs": [],
   "source": [
    "#Type your answer for question 3 here"
   ]
  },
  {
   "cell_type": "markdown",
   "id": "80fd225f",
   "metadata": {},
   "source": [
    "### 4. Add a column that gives the Exponentially Weighted Moving Average (EWMA) with a span of 12 months using the statsmodels <tt>SimpleExpSmoothing</tt> function. Plot the result"
   ]
  },
  {
   "cell_type": "code",
   "execution_count": 5,
   "id": "3db3e026",
   "metadata": {},
   "outputs": [],
   "source": [
    "#Type your answer for question 4 here"
   ]
  },
  {
   "cell_type": "markdown",
   "id": "61c0139c",
   "metadata": {},
   "source": [
    "### 5. Add a column that shows the Holt-Winters fitted model using Triple Exponential Smoothing with multiplicative models. Plot the result"
   ]
  },
  {
   "cell_type": "code",
   "execution_count": 6,
   "id": "58bdee4f",
   "metadata": {},
   "outputs": [],
   "source": [
    "#Type your answer for question 5 here"
   ]
  },
  {
   "cell_type": "markdown",
   "id": "2a3d13ce",
   "metadata": {},
   "source": [
    "### 6. Now plot the same information as for question 5, but only for the first 2 years (=24 months)"
   ]
  },
  {
   "cell_type": "code",
   "execution_count": 7,
   "id": "e6998b0a",
   "metadata": {},
   "outputs": [],
   "source": [
    "#Type your answer for question 6 here"
   ]
  },
  {
   "cell_type": "code",
   "execution_count": null,
   "id": "5fac3e7a",
   "metadata": {},
   "outputs": [],
   "source": []
  },
  {
   "cell_type": "code",
   "execution_count": null,
   "id": "32674115",
   "metadata": {},
   "outputs": [],
   "source": []
  }
 ],
 "metadata": {
  "kernelspec": {
   "display_name": "Python 3 (ipykernel)",
   "language": "python",
   "name": "python3"
  },
  "language_info": {
   "codemirror_mode": {
    "name": "ipython",
    "version": 3
   },
   "file_extension": ".py",
   "mimetype": "text/x-python",
   "name": "python",
   "nbconvert_exporter": "python",
   "pygments_lexer": "ipython3",
   "version": "3.8.13"
  }
 },
 "nbformat": 4,
 "nbformat_minor": 5
}